{
  "metadata": {
    "language_info": {
      "codemirror_mode": {
        "name": "python",
        "version": 3
      },
      "file_extension": ".py",
      "mimetype": "text/x-python",
      "name": "python",
      "nbconvert_exporter": "python",
      "pygments_lexer": "ipython3",
      "version": "3.8"
    },
    "kernelspec": {
      "name": "python",
      "display_name": "Python (Pyodide)",
      "language": "python"
    }
  },
  "nbformat_minor": 4,
  "nbformat": 4,
  "cells": [
    {
      "cell_type": "code",
      "source": "import numpy as np\nimport pandas as pd",
      "metadata": {
        "trusted": true
      },
      "execution_count": 2,
      "outputs": []
    },
    {
      "cell_type": "code",
      "source": "nutrition = pd.read_csv(\"nutrients.csv\")",
      "metadata": {
        "trusted": true
      },
      "execution_count": 3,
      "outputs": []
    },
    {
      "cell_type": "code",
      "source": "nutrition.head(5)",
      "metadata": {
        "trusted": true
      },
      "execution_count": 4,
      "outputs": [
        {
          "execution_count": 4,
          "output_type": "execute_result",
          "data": {
            "text/plain": "   Action  Food_Item_ID    foodcode  modcode  \\\n0     NaN           1.0  11111000.0      0.0   \n1     NaN           2.0  11111100.0      0.0   \n2     NaN           3.0  11111150.0      0.0   \n3     NaN           4.0  11111160.0      0.0   \n4     NaN           5.0  11111170.0      0.0   \n\n                            foodname  _203 Protein (g)  _204 Total Fat (g)  \\\n0                        Milk, whole            3.1499              3.2500   \n1            Milk, whole, low-sodium            3.1000              3.4599   \n2     Milk, whole, calcium fortified            3.1499              3.2500   \n3        1% milk, calcium fortified             3.3700              0.9700   \n4  Fat free milk, calcium fortified             3.3999              0.1800   \n\n   _205 Carbohydrate (g)  _208 Energy (kcal)  _221 Alcohol (g)  ...  \\\n0                 4.7999                61.0               0.0  ...   \n1                 4.4599                61.0               0.0  ...   \n2                 4.7999                61.0               0.0  ...   \n3                 4.9900                42.0               0.0  ...   \n4                 4.8498                35.0               0.0  ...   \n\n   Calc_Whole_Fruit  Calc_Alcohol  Calc_Added_Sugars  Calc_Solid_Fats  \\\n0            0.0000           0.0             0.0000          21.3840   \n1            0.0000           0.0             0.0000          23.0850   \n2            0.0000           0.0             0.0000          21.3840   \n3            0.0000           0.0             0.0000           2.9160   \n4            0.0000           0.0             0.0000           0.0000   \n\n   Calc_Omega3_DHA  Calc_Omega3_EPA  Calc_V_TOTAL  Calc_Protein_Foods  \\\n0              0.0              0.0        0.0000              0.0000   \n1              0.0              0.0        0.0000              0.0000   \n2              0.0              0.0        0.0000              0.0000   \n3              0.0              0.0        0.0000              0.0000   \n4              0.0              0.0        0.0000              0.0000   \n\n   Calc_Protein_Nuts_Seeds_Soy  Calc_Added_Sugars_Grams  \n0                       0.0000                   0.0000  \n1                       0.0000                   0.0000  \n2                       0.0000                   0.0000  \n3                       0.0000                   0.0000  \n4                       0.0000                   0.0000  \n\n[5 rows x 98 columns]",
            "text/html": "<div>\n<style scoped>\n    .dataframe tbody tr th:only-of-type {\n        vertical-align: middle;\n    }\n\n    .dataframe tbody tr th {\n        vertical-align: top;\n    }\n\n    .dataframe thead th {\n        text-align: right;\n    }\n</style>\n<table border=\"1\" class=\"dataframe\">\n  <thead>\n    <tr style=\"text-align: right;\">\n      <th></th>\n      <th>Action</th>\n      <th>Food_Item_ID</th>\n      <th>foodcode</th>\n      <th>modcode</th>\n      <th>foodname</th>\n      <th>_203 Protein (g)</th>\n      <th>_204 Total Fat (g)</th>\n      <th>_205 Carbohydrate (g)</th>\n      <th>_208 Energy (kcal)</th>\n      <th>_221 Alcohol (g)</th>\n      <th>...</th>\n      <th>Calc_Whole_Fruit</th>\n      <th>Calc_Alcohol</th>\n      <th>Calc_Added_Sugars</th>\n      <th>Calc_Solid_Fats</th>\n      <th>Calc_Omega3_DHA</th>\n      <th>Calc_Omega3_EPA</th>\n      <th>Calc_V_TOTAL</th>\n      <th>Calc_Protein_Foods</th>\n      <th>Calc_Protein_Nuts_Seeds_Soy</th>\n      <th>Calc_Added_Sugars_Grams</th>\n    </tr>\n  </thead>\n  <tbody>\n    <tr>\n      <th>0</th>\n      <td>NaN</td>\n      <td>1.0</td>\n      <td>11111000.0</td>\n      <td>0.0</td>\n      <td>Milk, whole</td>\n      <td>3.1499</td>\n      <td>3.2500</td>\n      <td>4.7999</td>\n      <td>61.0</td>\n      <td>0.0</td>\n      <td>...</td>\n      <td>0.0000</td>\n      <td>0.0</td>\n      <td>0.0000</td>\n      <td>21.3840</td>\n      <td>0.0</td>\n      <td>0.0</td>\n      <td>0.0000</td>\n      <td>0.0000</td>\n      <td>0.0000</td>\n      <td>0.0000</td>\n    </tr>\n    <tr>\n      <th>1</th>\n      <td>NaN</td>\n      <td>2.0</td>\n      <td>11111100.0</td>\n      <td>0.0</td>\n      <td>Milk, whole, low-sodium</td>\n      <td>3.1000</td>\n      <td>3.4599</td>\n      <td>4.4599</td>\n      <td>61.0</td>\n      <td>0.0</td>\n      <td>...</td>\n      <td>0.0000</td>\n      <td>0.0</td>\n      <td>0.0000</td>\n      <td>23.0850</td>\n      <td>0.0</td>\n      <td>0.0</td>\n      <td>0.0000</td>\n      <td>0.0000</td>\n      <td>0.0000</td>\n      <td>0.0000</td>\n    </tr>\n    <tr>\n      <th>2</th>\n      <td>NaN</td>\n      <td>3.0</td>\n      <td>11111150.0</td>\n      <td>0.0</td>\n      <td>Milk, whole, calcium fortified</td>\n      <td>3.1499</td>\n      <td>3.2500</td>\n      <td>4.7999</td>\n      <td>61.0</td>\n      <td>0.0</td>\n      <td>...</td>\n      <td>0.0000</td>\n      <td>0.0</td>\n      <td>0.0000</td>\n      <td>21.3840</td>\n      <td>0.0</td>\n      <td>0.0</td>\n      <td>0.0000</td>\n      <td>0.0000</td>\n      <td>0.0000</td>\n      <td>0.0000</td>\n    </tr>\n    <tr>\n      <th>3</th>\n      <td>NaN</td>\n      <td>4.0</td>\n      <td>11111160.0</td>\n      <td>0.0</td>\n      <td>1% milk, calcium fortified</td>\n      <td>3.3700</td>\n      <td>0.9700</td>\n      <td>4.9900</td>\n      <td>42.0</td>\n      <td>0.0</td>\n      <td>...</td>\n      <td>0.0000</td>\n      <td>0.0</td>\n      <td>0.0000</td>\n      <td>2.9160</td>\n      <td>0.0</td>\n      <td>0.0</td>\n      <td>0.0000</td>\n      <td>0.0000</td>\n      <td>0.0000</td>\n      <td>0.0000</td>\n    </tr>\n    <tr>\n      <th>4</th>\n      <td>NaN</td>\n      <td>5.0</td>\n      <td>11111170.0</td>\n      <td>0.0</td>\n      <td>Fat free milk, calcium fortified</td>\n      <td>3.3999</td>\n      <td>0.1800</td>\n      <td>4.8498</td>\n      <td>35.0</td>\n      <td>0.0</td>\n      <td>...</td>\n      <td>0.0000</td>\n      <td>0.0</td>\n      <td>0.0000</td>\n      <td>0.0000</td>\n      <td>0.0</td>\n      <td>0.0</td>\n      <td>0.0000</td>\n      <td>0.0000</td>\n      <td>0.0000</td>\n      <td>0.0000</td>\n    </tr>\n  </tbody>\n</table>\n<p>5 rows × 98 columns</p>\n</div>"
          },
          "metadata": {}
        }
      ]
    },
    {
      "cell_type": "code",
      "source": "len(nutrition)",
      "metadata": {
        "trusted": true
      },
      "execution_count": 5,
      "outputs": [
        {
          "execution_count": 5,
          "output_type": "execute_result",
          "data": {
            "text/plain": "6701"
          },
          "metadata": {}
        }
      ]
    },
    {
      "cell_type": "code",
      "source": "file_path = 'recipes_w_search_terms.csv'\n\n# Define the row(s) you want to skip\nrows_to_skip = [14367, 27441, 32582, 40440, 43573, 45629, 48129]  # Add any other row numbers to skip as needed\n\n# Read the CSV file, excluding the specified rows\nrecipes = pd.read_csv(file_path, skiprows=rows_to_skip)",
      "metadata": {
        "trusted": true
      },
      "execution_count": 21,
      "outputs": []
    },
    {
      "cell_type": "code",
      "source": "recipes.head(5)",
      "metadata": {
        "trusted": true
      },
      "execution_count": 22,
      "outputs": [
        {
          "execution_count": 22,
          "output_type": "execute_result",
          "data": {
            "text/plain": "       id                                   name  \\\n0   96313            Grilled Garlic Cheese Grits   \n1  232037  Simple Shrimp and Andouille Jambalaya   \n2   41090             black-and-white bean salad   \n3   60656             Crock Pot Italian Zucchini   \n4  232047          Beef Stew With Dried Cherries   \n\n                                         description  \\\n0  We love grits, this is another good way to ser...   \n1  Simple, easy and very tasty for when you are i...   \n2                                                NaN   \n3  This is a good recipe for weight watchers. It ...   \n4  This is a fabulous stew that came from one of ...   \n\n                                         ingredients  \\\n0  ['water', 'grits', 'salt', 'cheddar cheese', '...   \n1  ['onion', 'red bell pepper', 'garlic cloves', ...   \n2  ['white beans', 'canned black beans', 'tomatoe...   \n3  ['zucchini', 'yellow squash', 'diced tomatoes'...   \n4  ['beef stew meat', 'flour', 'salt', 'allspice'...   \n\n                                 ingredients_raw_str serving_size  servings  \\\n0  [\"4   cups    water\",\"1   cup   uncooked old f...    1 (155 g)       8.0   \n1  [\"1   medium    onion, chopped coarse \",\"1   m...    1 (366 g)       4.0   \n2  [\"1   cup   canned white beans, rinsed and dra...    1 (807 g)       1.0   \n3  [\"2       zucchini, sliced \",\"2   small    yel...    1 (244 g)       4.0   \n4  [\"3   lbs    beef stew meat\",\"3   tablespoons ...    1 (358 g)       8.0   \n\n                                               steps  \\\n0  ['I a sauce pan, bring water to a boil; slowly...   \n1  ['In a food processor, pulse the onion, red pe...   \n2  ['In a large bowl, combine beans, tomato, onio...   \n3  ['Put all ingredients in the crock pot and coo...   \n4  ['Preheat oven to 350°F.', \"Cut beef into 1 in...   \n\n                                                tags  \\\n0  ['time-to-make', 'course', 'main-ingredient', ...   \n1  ['60-minutes-or-less', 'time-to-make', 'course...   \n2  ['15-minutes-or-less', 'time-to-make', 'course...   \n3  ['weeknight', 'time-to-make', 'course', 'main-...   \n4  ['time-to-make', 'course', 'main-ingredient', ...   \n\n                                        search_terms  \n0  {'diabetic', 'low-calorie', 'vegetarian', 'low...  \n1                               {'dinner', 'shrimp'}  \n2  {'vegetarian', 'salad', 'side', 'dinner', 'veg...  \n3                  {'side', 'vegetarian', 'italian'}  \n4                                         {'dinner'}  ",
            "text/html": "<div>\n<style scoped>\n    .dataframe tbody tr th:only-of-type {\n        vertical-align: middle;\n    }\n\n    .dataframe tbody tr th {\n        vertical-align: top;\n    }\n\n    .dataframe thead th {\n        text-align: right;\n    }\n</style>\n<table border=\"1\" class=\"dataframe\">\n  <thead>\n    <tr style=\"text-align: right;\">\n      <th></th>\n      <th>id</th>\n      <th>name</th>\n      <th>description</th>\n      <th>ingredients</th>\n      <th>ingredients_raw_str</th>\n      <th>serving_size</th>\n      <th>servings</th>\n      <th>steps</th>\n      <th>tags</th>\n      <th>search_terms</th>\n    </tr>\n  </thead>\n  <tbody>\n    <tr>\n      <th>0</th>\n      <td>96313</td>\n      <td>Grilled Garlic Cheese Grits</td>\n      <td>We love grits, this is another good way to ser...</td>\n      <td>['water', 'grits', 'salt', 'cheddar cheese', '...</td>\n      <td>[\"4   cups    water\",\"1   cup   uncooked old f...</td>\n      <td>1 (155 g)</td>\n      <td>8.0</td>\n      <td>['I a sauce pan, bring water to a boil; slowly...</td>\n      <td>['time-to-make', 'course', 'main-ingredient', ...</td>\n      <td>{'diabetic', 'low-calorie', 'vegetarian', 'low...</td>\n    </tr>\n    <tr>\n      <th>1</th>\n      <td>232037</td>\n      <td>Simple Shrimp and Andouille Jambalaya</td>\n      <td>Simple, easy and very tasty for when you are i...</td>\n      <td>['onion', 'red bell pepper', 'garlic cloves', ...</td>\n      <td>[\"1   medium    onion, chopped coarse \",\"1   m...</td>\n      <td>1 (366 g)</td>\n      <td>4.0</td>\n      <td>['In a food processor, pulse the onion, red pe...</td>\n      <td>['60-minutes-or-less', 'time-to-make', 'course...</td>\n      <td>{'dinner', 'shrimp'}</td>\n    </tr>\n    <tr>\n      <th>2</th>\n      <td>41090</td>\n      <td>black-and-white bean salad</td>\n      <td>NaN</td>\n      <td>['white beans', 'canned black beans', 'tomatoe...</td>\n      <td>[\"1   cup   canned white beans, rinsed and dra...</td>\n      <td>1 (807 g)</td>\n      <td>1.0</td>\n      <td>['In a large bowl, combine beans, tomato, onio...</td>\n      <td>['15-minutes-or-less', 'time-to-make', 'course...</td>\n      <td>{'vegetarian', 'salad', 'side', 'dinner', 'veg...</td>\n    </tr>\n    <tr>\n      <th>3</th>\n      <td>60656</td>\n      <td>Crock Pot Italian Zucchini</td>\n      <td>This is a good recipe for weight watchers. It ...</td>\n      <td>['zucchini', 'yellow squash', 'diced tomatoes'...</td>\n      <td>[\"2       zucchini, sliced \",\"2   small    yel...</td>\n      <td>1 (244 g)</td>\n      <td>4.0</td>\n      <td>['Put all ingredients in the crock pot and coo...</td>\n      <td>['weeknight', 'time-to-make', 'course', 'main-...</td>\n      <td>{'side', 'vegetarian', 'italian'}</td>\n    </tr>\n    <tr>\n      <th>4</th>\n      <td>232047</td>\n      <td>Beef Stew With Dried Cherries</td>\n      <td>This is a fabulous stew that came from one of ...</td>\n      <td>['beef stew meat', 'flour', 'salt', 'allspice'...</td>\n      <td>[\"3   lbs    beef stew meat\",\"3   tablespoons ...</td>\n      <td>1 (358 g)</td>\n      <td>8.0</td>\n      <td>['Preheat oven to 350°F.', \"Cut beef into 1 in...</td>\n      <td>['time-to-make', 'course', 'main-ingredient', ...</td>\n      <td>{'dinner'}</td>\n    </tr>\n  </tbody>\n</table>\n</div>"
          },
          "metadata": {}
        }
      ]
    },
    {
      "cell_type": "code",
      "source": "unique_values = recipes['site'].unique()",
      "metadata": {
        "trusted": true
      },
      "execution_count": 12,
      "outputs": []
    },
    {
      "cell_type": "code",
      "source": "unique_values",
      "metadata": {
        "trusted": true
      },
      "execution_count": 13,
      "outputs": [
        {
          "execution_count": 13,
          "output_type": "execute_result",
          "data": {
            "text/plain": "array(['www.cookbooks.com'], dtype=object)"
          },
          "metadata": {}
        }
      ]
    },
    {
      "cell_type": "code",
      "source": "",
      "metadata": {},
      "execution_count": null,
      "outputs": []
    }
  ]
}